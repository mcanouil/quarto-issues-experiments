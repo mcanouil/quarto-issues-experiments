{
 "cells": [
  {
   "cell_type": "markdown",
   "metadata": {},
   "source": [
    "#"
   ],
   "id": "2087a5ad-0c78-4749-8087-99c45133a19b"
  },
  {
   "cell_type": "code",
   "execution_count": 1,
   "metadata": {},
   "outputs": [],
   "source": [
    "#| include: false\n",
    "using Pkg\n",
    "Pkg.add(\"CairoMakie\")"
   ],
   "id": "2"
  },
  {
   "cell_type": "markdown",
   "metadata": {},
   "source": [
    "# Second file\n",
    "\n",
    "I will generate a random scatter plot here which I want to embed in the first file:"
   ],
   "id": "67874cb9-ab53-4293-ba3a-9c2bccfa1bab"
  },
  {
   "cell_type": "code",
   "execution_count": 1,
   "metadata": {},
   "outputs": [],
   "source": [
    "#| fig-cap: \"This is a figure caption\"\n",
    "#| label: fig-test-figure\n",
    "using CairoMakie\n",
    "\n",
    "fig,ax,s = scatter(rand(1000), rand(1000))\n",
    "fig\n"
   ],
   "id": "cell-fig-test-figure"
  },
  {
   "cell_type": "markdown",
   "metadata": {},
   "source": [
    "More text here"
   ],
   "id": "86173c6b-9b0c-4c67-b2ea-d7c44661e3fd"
  },
  {
   "cell_type": "code",
   "execution_count": 1,
   "metadata": {},
   "outputs": [],
   "source": [
    "#| fig-cap: \"Now I'll use `display()` to see if it makes a difference\"\n",
    "#| label: fig-test-figure2\n",
    "using CairoMakie\n",
    "\n",
    "fig,ax,s = scatter(rand(1000), rand(1000))\n",
    "display(fig)\n"
   ],
   "id": "b455ebf6-5473-4982-83b4-44f2d9a7fa31"
  }
 ],
 "nbformat": 4,
 "nbformat_minor": 5,
 "metadata": {}
}
